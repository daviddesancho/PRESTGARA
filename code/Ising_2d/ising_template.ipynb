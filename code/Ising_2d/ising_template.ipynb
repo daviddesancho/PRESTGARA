{
 "cells": [
  {
   "cell_type": "code",
   "execution_count": 1,
   "metadata": {
    "collapsed": false
   },
   "outputs": [],
   "source": [
    "import os\n",
    "import numpy as np\n",
    "import ising as I\n",
    "import matplotlib.pyplot as plt\n",
    "%matplotlib inline"
   ]
  },
  {
   "cell_type": "code",
   "execution_count": 2,
   "metadata": {
    "collapsed": false
   },
   "outputs": [
    {
     "name": "stdout",
     "output_type": "stream",
     "text": [
      "\n",
      "Lattice properties: 5^2 cells, E=10.000000, M=-3, <E>=0.400000, <M>=-0.120000\n",
      "\n",
      "[['@' ' ' ' ' '@' ' ']\n",
      " [' ' '@' ' ' ' ' '@']\n",
      " ['@' '@' '@' ' ' ' ']\n",
      " [' ' ' ' ' ' ' ' '@']\n",
      " [' ' ' ' '@' '@' '@']]\n"
     ]
    }
   ],
   "source": [
    "a = I.Ising_lattice(5)\n",
    "a.random_spins()\n",
    "a.diagram()"
   ]
  },
  {
   "cell_type": "code",
   "execution_count": 3,
   "metadata": {
    "collapsed": false
   },
   "outputs": [
    {
     "name": "stdout",
     "output_type": "stream",
     "text": [
      "\n",
      "Lattice properties: 5^2 cells, E=10.000000, M=-1, <E>=0.400000, <M>=-0.040000\n",
      "\n",
      "[['@' '@' ' ' '@' ' ']\n",
      " [' ' '@' ' ' ' ' '@']\n",
      " ['@' '@' '@' ' ' ' ']\n",
      " [' ' ' ' ' ' ' ' '@']\n",
      " [' ' ' ' '@' '@' '@']]\n"
     ]
    }
   ],
   "source": [
    "a.spin_flip(0,1); a.diagram()"
   ]
  },
  {
   "cell_type": "code",
   "execution_count": 11,
   "metadata": {
    "collapsed": false
   },
   "outputs": [
    {
     "name": "stdout",
     "output_type": "stream",
     "text": [
      "\n",
      "Lattice properties: 20^2 cells, E=-12.000000, M=-16, <E>=-0.030000, <M>=-0.040000\n",
      "\n",
      "[[' ' ' ' '@' ' ' ' ' '@' ' ' '@' ' ' ' ' '@' ' ' '@' '@' ' ' '@' ' ' ' '\n",
      "  '@' ' ']\n",
      " [' ' '@' ' ' '@' '@' '@' '@' ' ' ' ' ' ' ' ' ' ' '@' ' ' '@' '@' '@' ' '\n",
      "  '@' ' ']\n",
      " [' ' ' ' ' ' ' ' '@' '@' ' ' '@' '@' '@' ' ' ' ' ' ' '@' ' ' ' ' ' ' ' '\n",
      "  ' ' ' ']\n",
      " [' ' '@' '@' '@' '@' ' ' ' ' ' ' '@' '@' ' ' '@' '@' ' ' '@' ' ' ' ' '@'\n",
      "  ' ' '@']\n",
      " ['@' '@' '@' ' ' '@' '@' ' ' '@' ' ' ' ' '@' ' ' '@' ' ' ' ' ' ' '@' '@'\n",
      "  '@' '@']\n",
      " [' ' ' ' ' ' ' ' ' ' '@' ' ' '@' ' ' ' ' ' ' '@' '@' ' ' ' ' ' ' ' ' ' '\n",
      "  '@' '@']\n",
      " ['@' '@' '@' ' ' ' ' ' ' '@' '@' '@' '@' ' ' '@' ' ' ' ' ' ' '@' ' ' ' '\n",
      "  ' ' '@']\n",
      " ['@' ' ' ' ' ' ' '@' '@' ' ' ' ' '@' ' ' '@' '@' '@' '@' ' ' ' ' ' ' '@'\n",
      "  ' ' '@']\n",
      " ['@' ' ' '@' '@' ' ' ' ' '@' '@' '@' ' ' '@' '@' '@' ' ' '@' '@' ' ' '@'\n",
      "  ' ' ' ']\n",
      " [' ' ' ' ' ' '@' '@' '@' '@' '@' '@' '@' '@' ' ' '@' '@' '@' ' ' '@' '@'\n",
      "  ' ' ' ']\n",
      " ['@' '@' ' ' ' ' ' ' '@' ' ' '@' '@' '@' '@' '@' '@' '@' ' ' '@' ' ' ' '\n",
      "  ' ' '@']\n",
      " ['@' ' ' '@' ' ' ' ' ' ' '@' ' ' ' ' ' ' ' ' '@' '@' ' ' '@' '@' ' ' '@'\n",
      "  ' ' '@']\n",
      " ['@' ' ' ' ' ' ' '@' '@' ' ' '@' '@' ' ' '@' '@' ' ' '@' '@' ' ' ' ' '@'\n",
      "  '@' ' ']\n",
      " [' ' '@' ' ' ' ' '@' ' ' ' ' ' ' '@' ' ' ' ' ' ' '@' '@' '@' ' ' '@' '@'\n",
      "  ' ' ' ']\n",
      " ['@' ' ' '@' '@' '@' ' ' ' ' ' ' '@' ' ' '@' ' ' ' ' '@' ' ' ' ' '@' '@'\n",
      "  ' ' ' ']\n",
      " ['@' ' ' '@' '@' ' ' ' ' '@' ' ' '@' '@' '@' ' ' ' ' '@' ' ' ' ' ' ' ' '\n",
      "  ' ' ' ']\n",
      " ['@' '@' '@' ' ' ' ' '@' ' ' ' ' '@' '@' ' ' ' ' ' ' '@' '@' '@' '@' '@'\n",
      "  ' ' ' ']\n",
      " ['@' '@' '@' ' ' ' ' ' ' '@' ' ' ' ' '@' ' ' ' ' ' ' '@' '@' ' ' ' ' '@'\n",
      "  '@' '@']\n",
      " [' ' ' ' '@' '@' '@' ' ' ' ' '@' ' ' ' ' ' ' ' ' '@' ' ' '@' '@' '@' '@'\n",
      "  ' ' '@']\n",
      " [' ' '@' ' ' '@' ' ' '@' ' ' ' ' ' ' '@' '@' ' ' ' ' ' ' ' ' ' ' ' ' '@'\n",
      "  ' ' ' ']]\n"
     ]
    }
   ],
   "source": [
    "N = 20\n",
    "a = I.Ising_lattice(N)\n",
    "nflips = 1000\n",
    "a.diagram()"
   ]
  },
  {
   "cell_type": "code",
   "execution_count": 12,
   "metadata": {
    "collapsed": false
   },
   "outputs": [
    {
     "name": "stdout",
     "output_type": "stream",
     "text": [
      "\n",
      "Lattice properties: 20^2 cells, E=-12.000000, M=-16, <E>=-0.030000, <M>=-0.040000\n",
      "\n",
      "[[' ' ' ' '@' ' ' ' ' '@' ' ' '@' ' ' ' ' '@' ' ' '@' '@' ' ' '@' ' ' ' '\n",
      "  '@' ' ']\n",
      " [' ' '@' ' ' '@' '@' '@' '@' ' ' ' ' ' ' ' ' ' ' '@' ' ' '@' '@' '@' ' '\n",
      "  '@' ' ']\n",
      " [' ' ' ' ' ' ' ' '@' '@' ' ' '@' '@' '@' ' ' ' ' ' ' '@' ' ' ' ' ' ' ' '\n",
      "  ' ' ' ']\n",
      " [' ' '@' '@' '@' '@' ' ' ' ' ' ' '@' '@' ' ' '@' '@' ' ' '@' ' ' ' ' '@'\n",
      "  ' ' '@']\n",
      " ['@' '@' '@' ' ' '@' '@' ' ' '@' ' ' ' ' '@' ' ' '@' ' ' ' ' ' ' '@' '@'\n",
      "  '@' '@']\n",
      " [' ' ' ' ' ' ' ' ' ' '@' ' ' '@' ' ' ' ' ' ' '@' '@' ' ' ' ' ' ' ' ' ' '\n",
      "  '@' '@']\n",
      " ['@' '@' '@' ' ' ' ' ' ' '@' '@' '@' '@' ' ' '@' ' ' ' ' ' ' '@' ' ' ' '\n",
      "  ' ' '@']\n",
      " ['@' ' ' ' ' ' ' '@' '@' ' ' ' ' '@' ' ' '@' '@' '@' '@' ' ' ' ' ' ' '@'\n",
      "  ' ' '@']\n",
      " ['@' ' ' '@' '@' ' ' ' ' '@' '@' '@' ' ' '@' '@' '@' ' ' '@' '@' ' ' '@'\n",
      "  ' ' ' ']\n",
      " [' ' ' ' ' ' '@' '@' '@' '@' '@' '@' '@' '@' ' ' '@' '@' '@' ' ' '@' '@'\n",
      "  ' ' ' ']\n",
      " ['@' '@' ' ' ' ' ' ' '@' ' ' '@' '@' '@' '@' '@' '@' '@' ' ' '@' ' ' ' '\n",
      "  ' ' '@']\n",
      " ['@' ' ' '@' ' ' ' ' ' ' '@' ' ' ' ' ' ' ' ' '@' '@' ' ' '@' '@' ' ' '@'\n",
      "  ' ' '@']\n",
      " ['@' ' ' ' ' ' ' '@' '@' ' ' '@' '@' ' ' '@' '@' ' ' '@' '@' ' ' ' ' '@'\n",
      "  '@' ' ']\n",
      " [' ' '@' ' ' ' ' '@' ' ' ' ' ' ' '@' ' ' ' ' ' ' '@' '@' '@' ' ' '@' '@'\n",
      "  ' ' ' ']\n",
      " ['@' ' ' '@' '@' '@' ' ' ' ' ' ' '@' ' ' '@' ' ' ' ' '@' ' ' ' ' '@' '@'\n",
      "  ' ' ' ']\n",
      " ['@' ' ' '@' '@' ' ' ' ' '@' ' ' '@' '@' '@' ' ' ' ' '@' ' ' ' ' ' ' ' '\n",
      "  ' ' ' ']\n",
      " ['@' '@' '@' ' ' ' ' '@' ' ' ' ' '@' '@' ' ' ' ' ' ' '@' '@' '@' '@' '@'\n",
      "  ' ' ' ']\n",
      " ['@' '@' '@' ' ' ' ' ' ' '@' ' ' ' ' '@' ' ' ' ' ' ' '@' '@' ' ' ' ' '@'\n",
      "  '@' '@']\n",
      " [' ' ' ' '@' '@' '@' ' ' ' ' '@' ' ' ' ' ' ' ' ' '@' ' ' '@' '@' '@' '@'\n",
      "  ' ' '@']\n",
      " [' ' '@' ' ' '@' ' ' '@' ' ' ' ' ' ' '@' '@' ' ' ' ' ' ' ' ' ' ' ' ' '@'\n",
      "  ' ' ' ']]\n",
      "None\n",
      "\n",
      "Lattice properties: 20^2 cells, E=-468.000000, M=-42, <E>=-1.170000, <M>=-0.105000\n",
      "\n",
      "[[' ' '@' '@' '@' '@' '@' ' ' ' ' ' ' ' ' ' ' ' ' ' ' ' ' ' ' ' ' ' ' ' '\n",
      "  ' ' ' ']\n",
      " [' ' ' ' ' ' '@' '@' '@' '@' ' ' ' ' ' ' ' ' ' ' ' ' ' ' ' ' ' ' ' ' ' '\n",
      "  ' ' ' ']\n",
      " [' ' ' ' ' ' '@' '@' '@' '@' '@' '@' '@' ' ' ' ' ' ' '@' '@' ' ' ' ' ' '\n",
      "  ' ' ' ']\n",
      " [' ' '@' '@' '@' '@' '@' ' ' '@' '@' '@' '@' '@' '@' '@' '@' ' ' ' ' ' '\n",
      "  ' ' ' ']\n",
      " ['@' '@' '@' '@' '@' '@' ' ' '@' ' ' ' ' ' ' '@' '@' ' ' ' ' ' ' ' ' ' '\n",
      "  '@' '@']\n",
      " ['@' '@' ' ' ' ' ' ' '@' '@' '@' ' ' ' ' ' ' '@' '@' ' ' ' ' ' ' ' ' ' '\n",
      "  '@' '@']\n",
      " ['@' '@' ' ' ' ' ' ' '@' '@' '@' '@' '@' '@' '@' '@' ' ' ' ' ' ' ' ' ' '\n",
      "  ' ' '@']\n",
      " ['@' ' ' ' ' ' ' '@' '@' '@' '@' '@' '@' '@' '@' '@' ' ' ' ' ' ' ' ' ' '\n",
      "  ' ' '@']\n",
      " [' ' ' ' ' ' ' ' '@' '@' '@' '@' '@' '@' '@' '@' '@' '@' '@' ' ' ' ' ' '\n",
      "  ' ' ' ']\n",
      " [' ' ' ' ' ' ' ' '@' '@' '@' '@' '@' '@' '@' ' ' '@' '@' '@' '@' '@' ' '\n",
      "  ' ' ' ']\n",
      " ['@' ' ' ' ' ' ' ' ' '@' '@' '@' '@' '@' '@' '@' '@' '@' '@' '@' ' ' ' '\n",
      "  ' ' '@']\n",
      " ['@' ' ' ' ' ' ' ' ' ' ' ' ' ' ' ' ' ' ' ' ' '@' '@' '@' '@' '@' ' ' '@'\n",
      "  '@' '@']\n",
      " ['@' ' ' ' ' ' ' ' ' ' ' ' ' ' ' ' ' ' ' ' ' ' ' ' ' '@' '@' ' ' ' ' '@'\n",
      "  '@' '@']\n",
      " ['@' '@' ' ' ' ' ' ' ' ' ' ' ' ' ' ' ' ' ' ' ' ' ' ' '@' '@' ' ' '@' '@'\n",
      "  ' ' ' ']\n",
      " ['@' '@' '@' '@' ' ' ' ' ' ' ' ' ' ' ' ' ' ' ' ' ' ' '@' ' ' ' ' '@' '@'\n",
      "  ' ' ' ']\n",
      " ['@' '@' '@' '@' ' ' ' ' ' ' ' ' '@' '@' ' ' ' ' ' ' '@' ' ' ' ' ' ' ' '\n",
      "  ' ' ' ']\n",
      " ['@' '@' '@' ' ' ' ' ' ' ' ' ' ' '@' '@' ' ' ' ' ' ' '@' '@' '@' '@' '@'\n",
      "  ' ' ' ']\n",
      " ['@' '@' '@' ' ' ' ' ' ' ' ' ' ' ' ' ' ' ' ' ' ' ' ' '@' '@' '@' '@' '@'\n",
      "  '@' '@']\n",
      " ['@' '@' '@' '@' '@' ' ' ' ' ' ' ' ' ' ' ' ' ' ' ' ' ' ' '@' '@' '@' '@'\n",
      "  '@' '@']\n",
      " [' ' '@' '@' '@' '@' ' ' ' ' ' ' ' ' ' ' ' ' ' ' ' ' ' ' ' ' ' ' ' ' ' '\n",
      "  ' ' ' ']]\n"
     ]
    }
   ],
   "source": [
    "n = 0\n",
    "energy = []\n",
    "magnet = []\n",
    "temp = 0\n",
    "print a.diagram()\n",
    "while n < nflips:\n",
    "    i = int(np.random.random()*N)\n",
    "    j = int(np.random.random()*N)\n",
    "    a.cond_spin_flip(i,j,temp); \n",
    "    energy.append(a._E)\n",
    "    magnet.append(a._M)\n",
    "    n +=1\n",
    "a.diagram()"
   ]
  },
  {
   "cell_type": "code",
   "execution_count": 13,
   "metadata": {
    "collapsed": false
   },
   "outputs": [
    {
     "data": {
      "text/plain": [
       "<matplotlib.text.Text at 0x10cf8b1d0>"
      ]
     },
     "execution_count": 13,
     "metadata": {},
     "output_type": "execute_result"
    },
    {
     "data": {
      "image/png": "[encoded data removed]",
      "text/plain": [
       "<matplotlib.figure.Figure at 0x110cf6ed0>"
      ]
     },
     "metadata": {},
     "output_type": "display_data"
    }
   ],
   "source": [
    "fig, ax = plt.subplots(2,1, sharex=True)\n",
    "ax[0].plot(energy)\n",
    "ax[1].plot(magnet)\n",
    "ax[1].set_xlabel('MC step')\n",
    "ax[0].set_ylabel('Energy')\n",
    "ax[1].set_ylabel('Magnetization')"
   ]
  },
  {
   "cell_type": "code",
   "execution_count": 16,
   "metadata": {
    "collapsed": false,
    "scrolled": false
   },
   "outputs": [],
   "source": [
    "command = \"convert -delay 1 -size 100x100\"\n",
    "temp = 1\n",
    "H = 0\n",
    "fout = open(\"output_T%g_H%g.dat\"%(temp,H),\"w\")\n",
    "n = 0\n",
    "k = 0\n",
    "nflips = 10000\n",
    "while n < nflips:\n",
    "    i = np.random.random()*N\n",
    "    j = np.random.random()*N\n",
    "    a.cond_spin_flip(i,j,temp)\n",
    "\n",
    "    if n % 1000 == 0:\n",
    "        fout.write (\"%8i %8i %8i %8i\\n\"%(n,a._E,a._M,abs(a._M)))\n",
    "    if n % 1000 == 0:\n",
    "        k +=1\n",
    "        try: \n",
    "            a.plot(k)\n",
    "        except IOError:\n",
    "            os.mkdir(\"pngs\")\n",
    "        command += \" pngs/ising%g.png\"%k\n",
    "    n+=1\n",
    "    \n",
    "\n",
    "command +=\" animation_T%g_H%g.gif\"%(temp,H)\n",
    "os.system(command)\n",
    "fout.close()"
   ]
  },
  {
   "cell_type": "code",
   "execution_count": 8,
   "metadata": {
    "collapsed": false
   },
   "outputs": [
    {
     "name": "stdout",
     "output_type": "stream",
     "text": [
      "\n",
      "Lattice properties: 8^2 cells, E=-128.000000, M=-64, <E>=-2.000000, <M>=-1.000000\n",
      "\n",
      "[[' ' ' ' ' ' ' ' ' ' ' ' ' ' ' ']\n",
      " [' ' ' ' ' ' ' ' ' ' ' ' ' ' ' ']\n",
      " [' ' ' ' ' ' ' ' ' ' ' ' ' ' ' ']\n",
      " [' ' ' ' ' ' ' ' ' ' ' ' ' ' ' ']\n",
      " [' ' ' ' ' ' ' ' ' ' ' ' ' ' ' ']\n",
      " [' ' ' ' ' ' ' ' ' ' ' ' ' ' ' ']\n",
      " [' ' ' ' ' ' ' ' ' ' ' ' ' ' ' ']\n",
      " [' ' ' ' ' ' ' ' ' ' ' ' ' ' ' ']]\n"
     ]
    }
   ],
   "source": [
    "a.diagram()"
   ]
  },
  {
   "cell_type": "code",
   "execution_count": null,
   "metadata": {
    "collapsed": true
   },
   "outputs": [],
   "source": []
  },
  {
   "cell_type": "code",
   "execution_count": null,
   "metadata": {
    "collapsed": true
   },
   "outputs": [],
   "source": []
  }
 ],
 "metadata": {
  "anaconda-cloud": {},
  "kernelspec": {
   "display_name": "Python [default]",
   "language": "python",
   "name": "python2"
  },
  "language_info": {
   "codemirror_mode": {
    "name": "ipython",
    "version": 2
   },
   "file_extension": ".py",
   "mimetype": "text/x-python",
   "name": "python",
   "nbconvert_exporter": "python",
   "pygments_lexer": "ipython2",
   "version": "2.7.12"
  }
 },
 "nbformat": 4,
 "nbformat_minor": 1
}
